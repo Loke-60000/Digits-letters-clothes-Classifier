{
 "cells": [
  {
   "cell_type": "code",
   "execution_count": null,
   "metadata": {},
   "outputs": [],
   "source": [
    "import os\n",
    "import cv2\n",
    "import numpy as np\n",
    "import matplotlib.pyplot as plt\n",
    "import tensorflow as tf\n",
    "from tensorflow.keras.models import load_model"
   ]
  },
  {
   "cell_type": "code",
   "execution_count": null,
   "metadata": {},
   "outputs": [],
   "source": [
    "webcam_path = \"data/webcam\"\n",
    "drawing_path = \"data/drawing\"\n",
    "webcam_pics = os.listdir(webcam_path)\n",
    "drawing_pics = os.listdir(drawing_path)\n",
    "webcam_pics, drawing_pics"
   ]
  },
  {
   "cell_type": "code",
   "execution_count": null,
   "metadata": {},
   "outputs": [],
   "source": [
    "def preprocess_webcam_image(image_path):\n",
    "    img = cv2.imread(image_path, cv2.IMREAD_GRAYSCALE)\n",
    "    img = cv2.resize(img, (28, 28))\n",
    "    img = img / 255.0\n",
    "    return img"
   ]
  },
  {
   "cell_type": "code",
   "execution_count": null,
   "metadata": {},
   "outputs": [],
   "source": [
    "full_path = os.path.join(webcam_path, webcam_pics[0])\n",
    "processed_webcam_image = preprocess_webcam_image(full_path)\n",
    "processed_webcam_image.shape"
   ]
  },
  {
   "cell_type": "code",
   "execution_count": null,
   "metadata": {},
   "outputs": [],
   "source": [
    "plt.plot()\n",
    "plt.imshow(processed_webcam_image, cmap=plt.get_cmap(\"gray\"))\n",
    "plt.show()"
   ]
  },
  {
   "cell_type": "code",
   "execution_count": null,
   "metadata": {},
   "outputs": [],
   "source": [
    "def preprocess_drawing_image(image_path):\n",
    "    img = cv2.imread(image_path, cv2.IMREAD_UNCHANGED)\n",
    "    img = cv2.resize(img, (28, 28))\n",
    "\n",
    "    img[img[:, :, 3] == 0] = [255, 255, 255, 255]\n",
    "\n",
    "    img = img[:, :, :3]\n",
    "\n",
    "    img_gray = cv2.cvtColor(img, cv2.COLOR_BGR2GRAY)\n",
    "\n",
    "    img_gray = cv2.equalizeHist(img_gray)\n",
    "\n",
    "    img_gray = img_gray / 255.0\n",
    "\n",
    "    img_gray = 1 - img_gray \n",
    "\n",
    "    return img_gray"
   ]
  },
  {
   "cell_type": "code",
   "execution_count": null,
   "metadata": {},
   "outputs": [],
   "source": [
    "plt.figure(figsize=(10, 10))\n",
    "\n",
    "for i, pic in enumerate(drawing_pics):\n",
    "    image_path = os.path.join(drawing_path, pic)\n",
    "    preprocessed_image = preprocess_drawing_image(image_path)\n",
    "\n",
    "    plt.subplot(3, 3, (i % 9) + 1)\n",
    "    plt.imshow(preprocessed_image, cmap=plt.get_cmap(\"gray\"))\n",
    "    plt.title(\"Image {}\".format(i + 1))\n",
    "\n",
    "plt.tight_layout()\n",
    "plt.show()"
   ]
  },
  {
   "cell_type": "code",
   "execution_count": null,
   "metadata": {},
   "outputs": [],
   "source": [
    "if len(drawing_pics) > 9:\n",
    "    image_path = os.path.join(drawing_path, drawing_pics[7])\n",
    "    preprocessed_image = preprocess_drawing_image(image_path)\n",
    "\n",
    "    plt.figure(figsize=(8, 8))\n",
    "    plt.subplot(1, 2, 1)\n",
    "    plt.imshow(preprocessed_image, cmap=plt.get_cmap(\"gray\"))\n",
    "    plt.title(\"Preprocessed Image\")\n",
    "\n",
    "    model = load_model(\"../models/mnist_model_digits.h5\")\n",
    "\n",
    "    def predict_image(image):\n",
    "        image = np.expand_dims(image, axis=0)\n",
    "        prediction = model.predict(image)\n",
    "        return prediction\n",
    "\n",
    "    prediction = predict_image(preprocessed_image)\n",
    "    predicted_label = np.argmax(prediction)\n",
    "\n",
    "    plt.subplot(1, 2, 2)\n",
    "    plt.bar(range(10), prediction[0])\n",
    "    plt.xticks(range(10))\n",
    "    plt.xlabel(\"Digit\")\n",
    "    plt.ylabel(\"Probability\")\n",
    "    plt.title(\"Prediction: {}\".format(predicted_label))\n",
    "\n",
    "    plt.tight_layout()\n",
    "    plt.show()\n",
    "else:\n",
    "    print(\"The 'drawing_pics' list does not have an element at index 9.\")"
   ]
  },
  {
   "cell_type": "code",
   "execution_count": null,
   "metadata": {},
   "outputs": [],
   "source": []
  }
 ],
 "metadata": {
  "kernelspec": {
   "display_name": "gemma",
   "language": "python",
   "name": "python3"
  },
  "language_info": {
   "codemirror_mode": {
    "name": "ipython",
    "version": 3
   },
   "file_extension": ".py",
   "mimetype": "text/x-python",
   "name": "python",
   "nbconvert_exporter": "python",
   "pygments_lexer": "ipython3",
   "version": "3.8.18"
  }
 },
 "nbformat": 4,
 "nbformat_minor": 2
}
