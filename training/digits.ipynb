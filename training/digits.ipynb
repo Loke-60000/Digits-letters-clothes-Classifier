{
 "cells": [
  {
   "cell_type": "markdown",
   "metadata": {},
   "source": [
    "# convolutional neural network\n",
    "\n",
    "## trained on mnist dataset\n",
    "\n",
    "\n",
    "https://keras.io/examples/vision/mnist_convnet/"
   ]
  },
  {
   "cell_type": "code",
   "execution_count": 5,
   "metadata": {},
   "outputs": [
    {
     "name": "stderr",
     "output_type": "stream",
     "text": [
      "2024-02-23 13:49:44.359465: I tensorflow/tsl/cuda/cudart_stub.cc:28] Could not find cuda drivers on your machine, GPU will not be used.\n",
      "2024-02-23 13:49:44.417970: I tensorflow/tsl/cuda/cudart_stub.cc:28] Could not find cuda drivers on your machine, GPU will not be used.\n",
      "2024-02-23 13:49:44.418768: I tensorflow/core/platform/cpu_feature_guard.cc:182] This TensorFlow binary is optimized to use available CPU instructions in performance-critical operations.\n",
      "To enable the following instructions: AVX2 FMA, in other operations, rebuild TensorFlow with the appropriate compiler flags.\n",
      "2024-02-23 13:49:45.247031: W tensorflow/compiler/tf2tensorrt/utils/py_utils.cc:38] TF-TRT Warning: Could not find TensorRT\n"
     ]
    }
   ],
   "source": [
    "import numpy as np\n",
    "import keras\n",
    "from keras import layers\n",
    "from pprint import pprint\n",
    "import pandas as pd\n",
    "from IPython.display import display\n",
    "from emnist import extract_training_samples, list_datasets, extract_test_samples\n",
    "import visualkeras\n",
    "import matplotlib.pyplot as plt"
   ]
  },
  {
   "cell_type": "code",
   "execution_count": 6,
   "metadata": {},
   "outputs": [
    {
     "data": {
      "text/html": [
       "<div>\n",
       "<style scoped>\n",
       "    .dataframe tbody tr th:only-of-type {\n",
       "        vertical-align: middle;\n",
       "    }\n",
       "\n",
       "    .dataframe tbody tr th {\n",
       "        vertical-align: top;\n",
       "    }\n",
       "\n",
       "    .dataframe thead th {\n",
       "        text-align: right;\n",
       "    }\n",
       "</style>\n",
       "<table border=\"1\" class=\"dataframe\">\n",
       "  <thead>\n",
       "    <tr style=\"text-align: right;\">\n",
       "      <th></th>\n",
       "      <th>Description</th>\n",
       "    </tr>\n",
       "  </thead>\n",
       "  <tbody>\n",
       "    <tr>\n",
       "      <th>byclass</th>\n",
       "      <td>814,255 characters. 62 unbalanced classes. numbers and letters.</td>\n",
       "    </tr>\n",
       "    <tr>\n",
       "      <th>bymerge</th>\n",
       "      <td>814,255 characters. 47 unbalanced classes. numbers and letters, with similar-looking letters merged.</td>\n",
       "    </tr>\n",
       "    <tr>\n",
       "      <th>balanced</th>\n",
       "      <td>131,600 characters. 47 balanced classes. numbers and letters, balanced across classes.</td>\n",
       "    </tr>\n",
       "    <tr>\n",
       "      <th>letters</th>\n",
       "      <td>145,600 characters. 26 balanced classes. letters, balanced across classes.</td>\n",
       "    </tr>\n",
       "    <tr>\n",
       "      <th>digits</th>\n",
       "      <td>280,000 characters. 10 balanced classes. numbers, balanced across classes.</td>\n",
       "    </tr>\n",
       "    <tr>\n",
       "      <th>mnist</th>\n",
       "      <td>70,000 characters. 10 balanced classes. numbers, directly compatible with the original MNIST dataset.</td>\n",
       "    </tr>\n",
       "  </tbody>\n",
       "</table>\n",
       "</div>"
      ],
      "text/plain": [
       "                                                                                                    Description\n",
       "byclass                                         814,255 characters. 62 unbalanced classes. numbers and letters.\n",
       "bymerge    814,255 characters. 47 unbalanced classes. numbers and letters, with similar-looking letters merged.\n",
       "balanced                 131,600 characters. 47 balanced classes. numbers and letters, balanced across classes.\n",
       "letters                              145,600 characters. 26 balanced classes. letters, balanced across classes.\n",
       "digits                               280,000 characters. 10 balanced classes. numbers, balanced across classes.\n",
       "mnist     70,000 characters. 10 balanced classes. numbers, directly compatible with the original MNIST dataset."
      ]
     },
     "metadata": {},
     "output_type": "display_data"
    }
   ],
   "source": [
    "\n",
    "pd.set_option('display.max_colwidth', None)\n",
    "pd.set_option('display.max_rows', None)\n",
    "\n",
    "dataset_descriptions = {\n",
    "    \"byclass\": \"814,255 characters. 62 unbalanced classes. numbers and letters.\",\n",
    "    \"bymerge\": \"814,255 characters. 47 unbalanced classes. numbers and letters, with similar-looking letters merged.\",\n",
    "    \"balanced\": \"131,600 characters. 47 balanced classes. numbers and letters, balanced across classes.\",\n",
    "    \"letters\": \"145,600 characters. 26 balanced classes. letters, balanced across classes.\",\n",
    "    \"digits\": \"280,000 characters. 10 balanced classes. numbers, balanced across classes.\",\n",
    "    \"mnist\": \"70,000 characters. 10 balanced classes. numbers, directly compatible with the original MNIST dataset.\"\n",
    "}\n",
    "\n",
    "dataset_df = pd.DataFrame.from_dict(dataset_descriptions, orient='index', columns=['Description'])\n",
    "display(dataset_df)"
   ]
  },
  {
   "cell_type": "code",
   "execution_count": 7,
   "metadata": {},
   "outputs": [
    {
     "name": "stdout",
     "output_type": "stream",
     "text": [
      "x_train shape: (240000, 28, 28, 1)\n",
      "240000 train samples\n",
      "40000 test samples\n"
     ]
    }
   ],
   "source": [
    "# Model / data parameters\n",
    "num_classes = 10\n",
    "input_shape = (28, 28, 1)\n",
    "\n",
    "(x_train, y_train) = extract_training_samples('digits')\n",
    "(x_test, y_test) = extract_test_samples('digits')\n",
    "\n",
    "# Scale images to the [0, 1] range\n",
    "x_train = x_train.astype(\"float32\") / 255\n",
    "x_test = x_test.astype(\"float32\") / 255\n",
    "# Make sure images have shape (28, 28, 1)\n",
    "x_train = np.expand_dims(x_train, -1)\n",
    "x_test = np.expand_dims(x_test, -1)\n",
    "print(\"x_train shape:\", x_train.shape)\n",
    "print(x_train.shape[0], \"train samples\")\n",
    "print(x_test.shape[0], \"test samples\")\n",
    "\n",
    "\n",
    "# convert class vectors to binary class matrices\n",
    "y_train = keras.utils.to_categorical(y_train, num_classes)\n",
    "y_test = keras.utils.to_categorical(y_test, num_classes)"
   ]
  },
  {
   "cell_type": "code",
   "execution_count": 8,
   "metadata": {},
   "outputs": [
    {
     "name": "stdout",
     "output_type": "stream",
     "text": [
      "Model: \"sequential\"\n",
      "_________________________________________________________________\n",
      " Layer (type)                Output Shape              Param #   \n",
      "=================================================================\n",
      " conv2d (Conv2D)             (None, 26, 26, 32)        320       \n",
      "                                                                 \n",
      " max_pooling2d (MaxPooling2  (None, 13, 13, 32)        0         \n",
      " D)                                                              \n",
      "                                                                 \n",
      " conv2d_1 (Conv2D)           (None, 11, 11, 64)        18496     \n",
      "                                                                 \n",
      " max_pooling2d_1 (MaxPoolin  (None, 5, 5, 64)          0         \n",
      " g2D)                                                            \n",
      "                                                                 \n",
      " flatten (Flatten)           (None, 1600)              0         \n",
      "                                                                 \n",
      " dropout (Dropout)           (None, 1600)              0         \n",
      "                                                                 \n",
      " dense (Dense)               (None, 10)                16010     \n",
      "                                                                 \n",
      "=================================================================\n",
      "Total params: 34826 (136.04 KB)\n",
      "Trainable params: 34826 (136.04 KB)\n",
      "Non-trainable params: 0 (0.00 Byte)\n",
      "_________________________________________________________________\n"
     ]
    }
   ],
   "source": [
    "model = keras.Sequential(\n",
    "    [\n",
    "        keras.Input(shape=input_shape),\n",
    "        layers.Conv2D(32, kernel_size=(3, 3), activation=\"relu\"),\n",
    "        layers.MaxPooling2D(pool_size=(2, 2)),\n",
    "        layers.Conv2D(64, kernel_size=(3, 3), activation=\"relu\"),\n",
    "        layers.MaxPooling2D(pool_size=(2, 2)),\n",
    "        layers.Flatten(),\n",
    "        layers.Dropout(0.5),\n",
    "        layers.Dense(num_classes, activation=\"softmax\"),\n",
    "    ]\n",
    ")\n",
    "\n",
    "model.summary()"
   ]
  },
  {
   "cell_type": "code",
   "execution_count": 9,
   "metadata": {},
   "outputs": [
    {
     "name": "stdout",
     "output_type": "stream",
     "text": [
      "Epoch 1/15\n",
      "1688/1688 [==============================] - 55s 32ms/step - loss: 0.1540 - accuracy: 0.9539 - val_loss: 0.0432 - val_accuracy: 0.9876\n",
      "Epoch 2/15\n",
      "1688/1688 [==============================] - 56s 33ms/step - loss: 0.0534 - accuracy: 0.9846 - val_loss: 0.0338 - val_accuracy: 0.9897\n",
      "Epoch 3/15\n",
      "1688/1688 [==============================] - 56s 33ms/step - loss: 0.0427 - accuracy: 0.9877 - val_loss: 0.0262 - val_accuracy: 0.9920\n",
      "Epoch 4/15\n",
      "1688/1688 [==============================] - 56s 33ms/step - loss: 0.0379 - accuracy: 0.9889 - val_loss: 0.0246 - val_accuracy: 0.9926\n",
      "Epoch 5/15\n",
      "1688/1688 [==============================] - 57s 34ms/step - loss: 0.0337 - accuracy: 0.9902 - val_loss: 0.0229 - val_accuracy: 0.9933\n",
      "Epoch 6/15\n",
      "1688/1688 [==============================] - 57s 34ms/step - loss: 0.0314 - accuracy: 0.9911 - val_loss: 0.0218 - val_accuracy: 0.9934\n",
      "Epoch 7/15\n",
      "1688/1688 [==============================] - 56s 33ms/step - loss: 0.0297 - accuracy: 0.9912 - val_loss: 0.0214 - val_accuracy: 0.9942\n",
      "Epoch 8/15\n",
      "1688/1688 [==============================] - 56s 33ms/step - loss: 0.0284 - accuracy: 0.9917 - val_loss: 0.0219 - val_accuracy: 0.9942\n",
      "Epoch 9/15\n",
      "1688/1688 [==============================] - 56s 33ms/step - loss: 0.0269 - accuracy: 0.9921 - val_loss: 0.0195 - val_accuracy: 0.9947\n",
      "Epoch 10/15\n",
      "1688/1688 [==============================] - 56s 33ms/step - loss: 0.0253 - accuracy: 0.9925 - val_loss: 0.0201 - val_accuracy: 0.9944\n",
      "Epoch 11/15\n",
      "1688/1688 [==============================] - 58s 34ms/step - loss: 0.0248 - accuracy: 0.9926 - val_loss: 0.0193 - val_accuracy: 0.9946\n",
      "Epoch 12/15\n",
      "1688/1688 [==============================] - 57s 34ms/step - loss: 0.0241 - accuracy: 0.9930 - val_loss: 0.0199 - val_accuracy: 0.9942\n",
      "Epoch 13/15\n",
      "1688/1688 [==============================] - 57s 34ms/step - loss: 0.0232 - accuracy: 0.9933 - val_loss: 0.0198 - val_accuracy: 0.9947\n",
      "Epoch 14/15\n",
      "1688/1688 [==============================] - 57s 34ms/step - loss: 0.0230 - accuracy: 0.9932 - val_loss: 0.0220 - val_accuracy: 0.9937\n",
      "Epoch 15/15\n",
      "1688/1688 [==============================] - 57s 34ms/step - loss: 0.0225 - accuracy: 0.9934 - val_loss: 0.0192 - val_accuracy: 0.9945\n",
      "Epoch 1/15\n",
      "1688/1688 [==============================] - 58s 34ms/step - loss: 0.0218 - accuracy: 0.9936 - val_loss: 0.0203 - val_accuracy: 0.9947\n",
      "Epoch 2/15\n",
      "1688/1688 [==============================] - 58s 34ms/step - loss: 0.0212 - accuracy: 0.9937 - val_loss: 0.0200 - val_accuracy: 0.9949\n",
      "Epoch 3/15\n",
      "1688/1688 [==============================] - 57s 34ms/step - loss: 0.0214 - accuracy: 0.9938 - val_loss: 0.0199 - val_accuracy: 0.9946\n",
      "Epoch 4/15\n",
      "1688/1688 [==============================] - 58s 34ms/step - loss: 0.0213 - accuracy: 0.9938 - val_loss: 0.0194 - val_accuracy: 0.9948\n",
      "Epoch 5/15\n",
      "1688/1688 [==============================] - 57s 34ms/step - loss: 0.0202 - accuracy: 0.9938 - val_loss: 0.0194 - val_accuracy: 0.9950\n",
      "Epoch 6/15\n",
      "1688/1688 [==============================] - 58s 34ms/step - loss: 0.0194 - accuracy: 0.9943 - val_loss: 0.0184 - val_accuracy: 0.9952\n",
      "Epoch 7/15\n",
      "1688/1688 [==============================] - 58s 34ms/step - loss: 0.0198 - accuracy: 0.9940 - val_loss: 0.0204 - val_accuracy: 0.9948\n",
      "Epoch 8/15\n",
      "1688/1688 [==============================] - 58s 35ms/step - loss: 0.0193 - accuracy: 0.9943 - val_loss: 0.0205 - val_accuracy: 0.9948\n",
      "Epoch 9/15\n",
      "1688/1688 [==============================] - 58s 34ms/step - loss: 0.0187 - accuracy: 0.9944 - val_loss: 0.0191 - val_accuracy: 0.9948\n",
      "Epoch 10/15\n",
      "1688/1688 [==============================] - 58s 35ms/step - loss: 0.0188 - accuracy: 0.9942 - val_loss: 0.0200 - val_accuracy: 0.9946\n",
      "Epoch 11/15\n",
      "1688/1688 [==============================] - 59s 35ms/step - loss: 0.0189 - accuracy: 0.9943 - val_loss: 0.0198 - val_accuracy: 0.9952\n",
      "Epoch 12/15\n",
      "1688/1688 [==============================] - 58s 35ms/step - loss: 0.0186 - accuracy: 0.9945 - val_loss: 0.0192 - val_accuracy: 0.9952\n",
      "Epoch 13/15\n",
      "1688/1688 [==============================] - 58s 35ms/step - loss: 0.0177 - accuracy: 0.9946 - val_loss: 0.0203 - val_accuracy: 0.9952\n",
      "Epoch 14/15\n",
      "1688/1688 [==============================] - 58s 35ms/step - loss: 0.0182 - accuracy: 0.9944 - val_loss: 0.0196 - val_accuracy: 0.9949\n",
      "Epoch 15/15\n",
      "1688/1688 [==============================] - 58s 35ms/step - loss: 0.0173 - accuracy: 0.9949 - val_loss: 0.0198 - val_accuracy: 0.9953\n"
     ]
    },
    {
     "data": {
      "image/png": "[encoded data removed]",
      "text/plain": [
       "<Figure size 1000x1000 with 1 Axes>"
      ]
     },
     "metadata": {},
     "output_type": "display_data"
    }
   ],
   "source": [
    "batch_size = 128\n",
    "epochs = 15\n",
    "\n",
    "model.compile(loss=\"categorical_crossentropy\", optimizer=\"adam\", metrics=[\"accuracy\"])\n",
    "\n",
    "model.fit(x_train, y_train, batch_size=batch_size, epochs=epochs, validation_split=0.1)\n",
    "\n",
    "batch_size = 128\n",
    "epochs = 15\n",
    "\n",
    "model.compile(loss=\"categorical_crossentropy\", optimizer=\"adam\", metrics=[\"accuracy\"])\n",
    "\n",
    "model.fit(x_train, y_train, batch_size=batch_size, epochs=epochs, validation_split=0.1)\n",
    "pil_img = visualkeras.layered_view(model)\n",
    "\n",
    "img_array = np.array(pil_img)\n",
    "\n",
    "plt.figure(figsize=(10, 10))\n",
    "plt.imshow(img_array)\n",
    "plt.axis('off')\n",
    "plt.show()"
   ]
  },
  {
   "cell_type": "code",
   "execution_count": 10,
   "metadata": {},
   "outputs": [
    {
     "name": "stdout",
     "output_type": "stream",
     "text": [
      "1250/1250 [==============================] - 5s 4ms/step - loss: 0.0169 - accuracy: 0.9958\n",
      "Test loss: 0.016937384381890297\n",
      "Test accuracy: 0.9958249926567078\n"
     ]
    },
    {
     "name": "stderr",
     "output_type": "stream",
     "text": [
      "/home/lokman/anaconda3/envs/gemma/lib/python3.8/site-packages/keras/src/engine/training.py:3000: UserWarning: You are saving your model as an HDF5 file via `model.save()`. This file format is considered legacy. We recommend using instead the native Keras format, e.g. `model.save('my_model.keras')`.\n",
      "  saving_api.save_model(\n"
     ]
    }
   ],
   "source": [
    "score = model.evaluate(x_test, y_test, verbose=1)\n",
    "print(\"Test loss:\", score[0])\n",
    "print(\"Test accuracy:\", score[1])\n",
    "\n",
    "import pickle\n",
    "\n",
    "model.save('../models/mnist_model_digits.h5')\n"
   ]
  },
  {
   "cell_type": "code",
   "execution_count": 10,
   "metadata": {},
   "outputs": [
    {
     "name": "stdout",
     "output_type": "stream",
     "text": [
      "Model: \"sequential\"\n",
      "_________________________________________________________________\n",
      " Layer (type)                Output Shape              Param #   \n",
      "=================================================================\n",
      " conv2d (Conv2D)             (None, 26, 26, 32)        320       \n",
      "                                                                 \n",
      " max_pooling2d (MaxPooling2  (None, 13, 13, 32)        0         \n",
      " D)                                                              \n",
      "                                                                 \n",
      " conv2d_1 (Conv2D)           (None, 11, 11, 64)        18496     \n",
      "                                                                 \n",
      " max_pooling2d_1 (MaxPoolin  (None, 5, 5, 64)          0         \n",
      " g2D)                                                            \n",
      "                                                                 \n",
      " flatten (Flatten)           (None, 1600)              0         \n",
      "                                                                 \n",
      " dropout (Dropout)           (None, 1600)              0         \n",
      "                                                                 \n",
      " dense (Dense)               (None, 10)                16010     \n",
      "                                                                 \n",
      "=================================================================\n",
      "Total params: 34826 (136.04 KB)\n",
      "Trainable params: 34826 (136.04 KB)\n",
      "Non-trainable params: 0 (0.00 Byte)\n",
      "_________________________________________________________________\n"
     ]
    }
   ],
   "source": [
    "model = keras.models.load_model('../models/mnist_model_digits.h5')\n",
    "model.summary()"
   ]
  },
  {
   "cell_type": "code",
   "execution_count": null,
   "metadata": {},
   "outputs": [],
   "source": []
  }
 ],
 "metadata": {
  "kernelspec": {
   "display_name": "neurog",
   "language": "python",
   "name": "python3"
  },
  "language_info": {
   "codemirror_mode": {
    "name": "ipython",
    "version": 3
   },
   "file_extension": ".py",
   "mimetype": "text/x-python",
   "name": "python",
   "nbconvert_exporter": "python",
   "pygments_lexer": "ipython3",
   "version": "3.8.18"
  }
 },
 "nbformat": 4,
 "nbformat_minor": 2
}
