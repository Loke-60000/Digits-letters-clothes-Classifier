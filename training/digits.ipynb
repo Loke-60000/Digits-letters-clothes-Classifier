{
 "cells": [
  {
   "cell_type": "markdown",
   "metadata": {},
   "source": [
    "# convolutional neural network\n",
    "\n",
    "## trained on mnist dataset\n",
    "\n",
    "https://keras.io/examples/vision/mnist_convnet/\n"
   ]
  },
  {
   "cell_type": "code",
   "execution_count": 45,
   "metadata": {},
   "outputs": [],
   "source": [
    "import numpy as np\n",
    "import keras\n",
    "from keras import layers\n",
    "from pprint import pprint\n",
    "import pandas as pd\n",
    "from IPython.display import display\n",
    "from emnist import extract_training_samples, list_datasets, extract_test_samples\n",
    "import visualkeras\n",
    "import matplotlib.pyplot as plt\n",
    "import tensorflow as tf"
   ]
  },
  {
   "cell_type": "code",
   "execution_count": 46,
   "metadata": {},
   "outputs": [],
   "source": [
    "# dataset_descriptions = {\n",
    "#     \"byclass\": \"814,255 characters. 62 unbalanced classes. numbers and letters.\",\n",
    "#     \"bymerge\": \"814,255 characters. 47 unbalanced classes. numbers and letters, with similar-looking letters merged.\",\n",
    "#     \"balanced\": \"131,600 characters. 47 balanced classes. numbers and letters, balanced across classes.\",\n",
    "#     \"letters\": \"145,600 characters. 26 balanced classes. letters, balanced across classes.\",\n",
    "#     \"digits\": \"280,000 characters. 10 balanced classes. numbers, balanced across classes.\",\n",
    "#     \"mnist\": \"70,000 characters. 10 balanced classes. numbers, directly compatible with the original MNIST dataset.\",\n",
    "# }"
   ]
  },
  {
   "cell_type": "code",
   "execution_count": 47,
   "metadata": {},
   "outputs": [
    {
     "name": "stdout",
     "output_type": "stream",
     "text": [
      "x_train shape: (240000, 28, 28, 1)\n",
      "240000 train samples\n",
      "40000 test samples\n"
     ]
    }
   ],
   "source": [
    "# Model / data parameters\n",
    "num_classes = 10\n",
    "input_shape = (28, 28, 1)\n",
    "\n",
    "(x_train, y_train) = extract_training_samples(\"digits\")\n",
    "(x_test, y_test) = extract_test_samples(\"digits\")\n",
    "\n",
    "# Scale images to the [0, 1] range\n",
    "x_train = x_train.astype(\"float32\") / 255\n",
    "x_test = x_test.astype(\"float32\") / 255\n",
    "# Make sure images have shape (28, 28, 1)\n",
    "x_train = np.expand_dims(x_train, -1)\n",
    "x_test = np.expand_dims(x_test, -1)\n",
    "print(\"x_train shape:\", x_train.shape)\n",
    "print(x_train.shape[0], \"train samples\")\n",
    "print(x_test.shape[0], \"test samples\")\n",
    "\n",
    "\n",
    "# convert class vectors to binary class matrices\n",
    "y_train = keras.utils.to_categorical(y_train, num_classes)\n",
    "y_test = keras.utils.to_categorical(y_test, num_classes)"
   ]
  },
  {
   "cell_type": "code",
   "execution_count": 48,
   "metadata": {},
   "outputs": [
    {
     "name": "stdout",
     "output_type": "stream",
     "text": [
      "Model: \"sequential_7\"\n",
      "_________________________________________________________________\n",
      " Layer (type)                Output Shape              Param #   \n",
      "=================================================================\n",
      " conv2d_10 (Conv2D)          (None, 26, 26, 32)        320       \n",
      "                                                                 \n",
      " flatten_7 (Flatten)         (None, 21632)             0         \n",
      "                                                                 \n",
      " dense_7 (Dense)             (None, 10)                216330    \n",
      "                                                                 \n",
      "=================================================================\n",
      "Total params: 216650 (846.29 KB)\n",
      "Trainable params: 216650 (846.29 KB)\n",
      "Non-trainable params: 0 (0.00 Byte)\n",
      "_________________________________________________________________\n"
     ]
    }
   ],
   "source": [
    "# model = keras.Sequential(\n",
    "#     [\n",
    "#         keras.Input(shape=input_shape),\n",
    "#         layers.Conv2D(32, kernel_size=(3, 3), activation=\"relu\"),\n",
    "#         layers.MaxPooling2D(pool_size=(2, 2)),\n",
    "#         layers.Conv2D(64, kernel_size=(3, 3), activation=\"relu\"),\n",
    "#         layers.MaxPooling2D(pool_size=(2, 2)),\n",
    "#         layers.Flatten(),\n",
    "#         layers.Dropout(0.5),\n",
    "#         layers.Dense(num_classes, activation=\"softmax\"),\n",
    "#     ]\n",
    "# )\n",
    "\n",
    "input_shape = (28, 28, 1)\n",
    "num_classes = 10\n",
    "\n",
    "model = tf.keras.Sequential(\n",
    "    [\n",
    "        tf.keras.layers.Conv2D(\n",
    "            32, kernel_size=(3, 3), activation=\"relu\", input_shape=input_shape\n",
    "        ),\n",
    "        tf.keras.layers.Flatten(),\n",
    "        tf.keras.layers.Dense(num_classes, activation=\"softmax\"),\n",
    "    ]\n",
    ")\n",
    "model.summary()"
   ]
  },
  {
   "cell_type": "code",
   "execution_count": 43,
   "metadata": {},
   "outputs": [
    {
     "name": "stdout",
     "output_type": "stream",
     "text": [
      "563/563 [==============================] - 23s 39ms/step - loss: 0.1807 - accuracy: 0.9510 - val_loss: 0.0741 - val_accuracy: 0.9800\n"
     ]
    },
    {
     "data": {
      "image/png": "[encoded data removed]",
      "text/plain": [
       "<Figure size 1000x1000 with 1 Axes>"
      ]
     },
     "metadata": {},
     "output_type": "display_data"
    }
   ],
   "source": [
    "# batch_size = 128\n",
    "# epochs = 15\n",
    "# smaller batch size\n",
    "batch_size = 384\n",
    "epochs = 1\n",
    "\n",
    "model.compile(loss=\"categorical_crossentropy\",\n",
    "              optimizer=\"adam\", metrics=[\"accuracy\"])\n",
    "\n",
    "model.fit(x_train, y_train, batch_size=batch_size,\n",
    "          epochs=epochs, validation_split=0.1)\n",
    "pil_img = visualkeras.layered_view(model)\n",
    "\n",
    "img_array = np.array(pil_img)\n",
    "\n",
    "plt.figure(figsize=(10, 10))\n",
    "plt.imshow(img_array)\n",
    "plt.axis(\"off\")\n",
    "plt.show()"
   ]
  },
  {
   "cell_type": "code",
   "execution_count": 44,
   "metadata": {},
   "outputs": [
    {
     "name": "stdout",
     "output_type": "stream",
     "text": [
      "1250/1250 [==============================] - 3s 2ms/step - loss: 0.0697 - accuracy: 0.9800\n",
      "Test loss: 0.06973247975111008\n",
      "Test accuracy: 0.9799749851226807\n"
     ]
    }
   ],
   "source": [
    "import pickle\n",
    "\n",
    "score = model.evaluate(x_test, y_test, verbose=1)\n",
    "print(\"Test loss:\", score[0])\n",
    "print(\"Test accuracy:\", score[1])\n",
    "\n",
    "\n",
    "model.save(\"../models/mnist_model_digits.h5\")"
   ]
  },
  {
   "cell_type": "code",
   "execution_count": null,
   "metadata": {},
   "outputs": [],
   "source": []
  }
 ],
 "metadata": {
  "kernelspec": {
   "display_name": "neurog",
   "language": "python",
   "name": "python3"
  },
  "language_info": {
   "codemirror_mode": {
    "name": "ipython",
    "version": 3
   },
   "file_extension": ".py",
   "mimetype": "text/x-python",
   "name": "python",
   "nbconvert_exporter": "python",
   "pygments_lexer": "ipython3",
   "version": "3.8.18"
  }
 },
 "nbformat": 4,
 "nbformat_minor": 2
}
